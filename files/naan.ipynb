{
 "cells": [
  {
   "cell_type": "code",
   "execution_count": 1,
   "metadata": {},
   "outputs": [],
   "source": [
    "import numpy as np\n",
    "import pandas as pd\n",
    "import matplotlib.pyplot as plt\n",
    "from tensorflow.keras.applications.vgg19 import VGG19, preprocess_input\n",
    "from tensorflow.keras.layers import Flatten, Dense\n",
    "from tensorflow.keras.models import Model\n",
    "from tensorflow.keras.preprocessing.image import ImageDataGenerator\n",
    "from PIL import ImageFile\n",
    "from tensorflow.keras.models import load_model\n",
    "from tensorflow.keras.preprocessing import image"
   ]
  },
  {
   "cell_type": "code",
   "execution_count": 2,
   "metadata": {},
   "outputs": [],
   "source": [
    "from tensorflow.keras.preprocessing.image import ImageDataGenerator \n",
    "train_datagen = ImageDataGenerator (rescale = 1./255, shear_range = 0.2, zoom_range = [.99, 1.01], brightness_range= [0.8, 1.2], data_format= \"channels_last\", fill_mode=\"constant\", horizontal_flip = True)\n",
    "test_datagen = ImageDataGenerator (rescale = 1./255)"
   ]
  },
  {
   "cell_type": "code",
   "execution_count": 3,
   "metadata": {},
   "outputs": [
    {
     "name": "stdout",
     "output_type": "stream",
     "text": [
      "Found 1200 images belonging to 5 classes.\n",
      "Found 300 images belonging to 5 classes.\n"
     ]
    }
   ],
   "source": [
    "training_set = train_datagen.flow_from_directory('train_data',target_size = (180, 180),batch_size = 64,class_mode = 'categorical')\n",
    "test_set = test_datagen.flow_from_directory('test_data',target_size = (180, 180),batch_size = 64,class_mode = 'categorical')"
   ]
  },
  {
   "cell_type": "code",
   "execution_count": 4,
   "metadata": {},
   "outputs": [],
   "source": [
    "VGG19 = VGG19(input_shape=[180,180]+ [3], weights='imagenet',include_top=False)\n",
    "for layer in VGG19.layers: layer.trainable = False\n",
    "x = Flatten() (VGG19.output)"
   ]
  },
  {
   "cell_type": "code",
   "execution_count": 5,
   "metadata": {},
   "outputs": [],
   "source": [
    "#Adding Dense Layers\n",
    "prediction = Dense(5, activation = 'softmax')(x)"
   ]
  },
  {
   "cell_type": "code",
   "execution_count": 6,
   "metadata": {},
   "outputs": [
    {
     "data": {
      "text/plain": [
       "<bound method Model.summary of <keras.engine.functional.Functional object at 0x000001DD04908910>>"
      ]
     },
     "execution_count": 6,
     "metadata": {},
     "output_type": "execute_result"
    }
   ],
   "source": [
    "model = Model(inputs = VGG19.input, outputs=prediction)\n",
    "model.summary"
   ]
  },
  {
   "cell_type": "code",
   "execution_count": 7,
   "metadata": {},
   "outputs": [],
   "source": [
    "# tell the model what cost and optimization method to use \n",
    "model.compile(\n",
    "    loss='categorical_crossentropy', \n",
    "    optimizer='adam',\n",
    "    metrics=['accuracy']\n",
    ")"
   ]
  },
  {
   "cell_type": "code",
   "execution_count": 8,
   "metadata": {},
   "outputs": [
    {
     "name": "stdout",
     "output_type": "stream",
     "text": [
      "Epoch 1/50\n",
      "19/19 [==============================] - 246s 13s/step - loss: 1.2584 - accuracy: 0.4892 - val_loss: 0.7561 - val_accuracy: 0.7433\n",
      "Epoch 2/50\n",
      "19/19 [==============================] - 204s 11s/step - loss: 0.6488 - accuracy: 0.7717 - val_loss: 0.6095 - val_accuracy: 0.7967\n",
      "Epoch 3/50\n",
      "19/19 [==============================] - 112s 6s/step - loss: 0.4710 - accuracy: 0.8617 - val_loss: 0.5551 - val_accuracy: 0.8200\n",
      "Epoch 4/50\n",
      "19/19 [==============================] - 104s 6s/step - loss: 0.3899 - accuracy: 0.8925 - val_loss: 0.5044 - val_accuracy: 0.8500\n",
      "Epoch 5/50\n",
      "19/19 [==============================] - 103s 5s/step - loss: 0.3506 - accuracy: 0.8883 - val_loss: 0.4798 - val_accuracy: 0.8467\n",
      "Epoch 6/50\n",
      "19/19 [==============================] - 102s 5s/step - loss: 0.2826 - accuracy: 0.9250 - val_loss: 0.4128 - val_accuracy: 0.8667\n",
      "Epoch 7/50\n",
      "19/19 [==============================] - 105s 6s/step - loss: 0.2576 - accuracy: 0.9258 - val_loss: 0.4115 - val_accuracy: 0.8633\n",
      "Epoch 8/50\n",
      "19/19 [==============================] - 103s 5s/step - loss: 0.2365 - accuracy: 0.9400 - val_loss: 0.3724 - val_accuracy: 0.8733\n",
      "Epoch 9/50\n",
      "19/19 [==============================] - 100s 5s/step - loss: 0.2143 - accuracy: 0.9500 - val_loss: 0.3996 - val_accuracy: 0.8700\n",
      "Epoch 10/50\n",
      "19/19 [==============================] - 102s 5s/step - loss: 0.2047 - accuracy: 0.9525 - val_loss: 0.4441 - val_accuracy: 0.8567\n",
      "Epoch 11/50\n",
      "19/19 [==============================] - 101s 5s/step - loss: 0.1810 - accuracy: 0.9575 - val_loss: 0.3709 - val_accuracy: 0.8767\n",
      "Epoch 12/50\n",
      "19/19 [==============================] - 108s 6s/step - loss: 0.1798 - accuracy: 0.9542 - val_loss: 0.3554 - val_accuracy: 0.8833\n",
      "Epoch 13/50\n",
      "19/19 [==============================] - 100s 5s/step - loss: 0.1672 - accuracy: 0.9583 - val_loss: 0.3652 - val_accuracy: 0.8867\n",
      "Epoch 14/50\n",
      "19/19 [==============================] - 93s 5s/step - loss: 0.1457 - accuracy: 0.9617 - val_loss: 0.3373 - val_accuracy: 0.8967\n",
      "Epoch 15/50\n",
      "19/19 [==============================] - 96s 5s/step - loss: 0.1363 - accuracy: 0.9692 - val_loss: 0.3572 - val_accuracy: 0.8867\n",
      "Epoch 16/50\n",
      "19/19 [==============================] - 105s 6s/step - loss: 0.1316 - accuracy: 0.9725 - val_loss: 0.3843 - val_accuracy: 0.8800\n",
      "Epoch 17/50\n",
      "19/19 [==============================] - 106s 6s/step - loss: 0.1215 - accuracy: 0.9742 - val_loss: 0.4041 - val_accuracy: 0.8700\n",
      "Epoch 18/50\n",
      "19/19 [==============================] - 110s 6s/step - loss: 0.1183 - accuracy: 0.9775 - val_loss: 0.3695 - val_accuracy: 0.8767\n",
      "Epoch 19/50\n",
      "19/19 [==============================] - 91s 5s/step - loss: 0.1045 - accuracy: 0.9825 - val_loss: 0.3784 - val_accuracy: 0.8700\n",
      "Epoch 20/50\n",
      "19/19 [==============================] - 84s 4s/step - loss: 0.1007 - accuracy: 0.9808 - val_loss: 0.3382 - val_accuracy: 0.8933\n",
      "Epoch 21/50\n",
      "19/19 [==============================] - 81s 4s/step - loss: 0.0996 - accuracy: 0.9842 - val_loss: 0.3553 - val_accuracy: 0.8767\n",
      "Epoch 22/50\n",
      "19/19 [==============================] - 82s 4s/step - loss: 0.0969 - accuracy: 0.9792 - val_loss: 0.3561 - val_accuracy: 0.8833\n",
      "Epoch 23/50\n",
      "19/19 [==============================] - 82s 4s/step - loss: 0.0976 - accuracy: 0.9825 - val_loss: 0.3509 - val_accuracy: 0.8867\n",
      "Epoch 24/50\n",
      "19/19 [==============================] - 81s 4s/step - loss: 0.0871 - accuracy: 0.9833 - val_loss: 0.3638 - val_accuracy: 0.8900\n",
      "Epoch 25/50\n",
      "19/19 [==============================] - 81s 4s/step - loss: 0.0778 - accuracy: 0.9858 - val_loss: 0.3804 - val_accuracy: 0.8867\n",
      "Epoch 26/50\n",
      "19/19 [==============================] - 81s 4s/step - loss: 0.0840 - accuracy: 0.9875 - val_loss: 0.3552 - val_accuracy: 0.8867\n",
      "Epoch 27/50\n",
      "19/19 [==============================] - 87s 5s/step - loss: 0.0778 - accuracy: 0.9875 - val_loss: 0.3552 - val_accuracy: 0.8900\n",
      "Epoch 28/50\n",
      "19/19 [==============================] - 80s 4s/step - loss: 0.0788 - accuracy: 0.9858 - val_loss: 0.3265 - val_accuracy: 0.8967\n",
      "Epoch 29/50\n",
      "19/19 [==============================] - 82s 4s/step - loss: 0.0752 - accuracy: 0.9883 - val_loss: 0.3432 - val_accuracy: 0.9000\n",
      "Epoch 30/50\n",
      "19/19 [==============================] - 82s 4s/step - loss: 0.0682 - accuracy: 0.9900 - val_loss: 0.3489 - val_accuracy: 0.8967\n",
      "Epoch 31/50\n",
      "19/19 [==============================] - 80s 4s/step - loss: 0.0612 - accuracy: 0.9917 - val_loss: 0.4181 - val_accuracy: 0.8700\n",
      "Epoch 32/50\n",
      "19/19 [==============================] - 80s 4s/step - loss: 0.0663 - accuracy: 0.9867 - val_loss: 0.3303 - val_accuracy: 0.9000\n",
      "Epoch 33/50\n",
      "19/19 [==============================] - 80s 4s/step - loss: 0.0654 - accuracy: 0.9875 - val_loss: 0.3432 - val_accuracy: 0.8900\n",
      "Epoch 34/50\n",
      "19/19 [==============================] - 78s 4s/step - loss: 0.0541 - accuracy: 0.9933 - val_loss: 0.3574 - val_accuracy: 0.8867\n",
      "Epoch 35/50\n",
      "19/19 [==============================] - 78s 4s/step - loss: 0.0557 - accuracy: 0.9933 - val_loss: 0.3475 - val_accuracy: 0.8867\n",
      "Epoch 36/50\n",
      "19/19 [==============================] - 78s 4s/step - loss: 0.0511 - accuracy: 0.9933 - val_loss: 0.3659 - val_accuracy: 0.8900\n",
      "Epoch 37/50\n",
      "19/19 [==============================] - 76s 4s/step - loss: 0.0558 - accuracy: 0.9925 - val_loss: 0.4299 - val_accuracy: 0.8667\n",
      "Epoch 38/50\n",
      "19/19 [==============================] - 76s 4s/step - loss: 0.0494 - accuracy: 0.9967 - val_loss: 0.3966 - val_accuracy: 0.8767\n",
      "Epoch 39/50\n",
      "19/19 [==============================] - 74s 4s/step - loss: 0.0546 - accuracy: 0.9908 - val_loss: 0.3011 - val_accuracy: 0.9133\n",
      "Epoch 40/50\n",
      "19/19 [==============================] - 81s 4s/step - loss: 0.0476 - accuracy: 0.9942 - val_loss: 0.3972 - val_accuracy: 0.8833\n",
      "Epoch 41/50\n",
      "19/19 [==============================] - 102s 5s/step - loss: 0.0490 - accuracy: 0.9908 - val_loss: 0.4568 - val_accuracy: 0.8700\n",
      "Epoch 42/50\n",
      "19/19 [==============================] - 79s 4s/step - loss: 0.0447 - accuracy: 0.9950 - val_loss: 0.3317 - val_accuracy: 0.9033\n",
      "Epoch 43/50\n",
      "19/19 [==============================] - 83s 4s/step - loss: 0.0454 - accuracy: 0.9942 - val_loss: 0.3456 - val_accuracy: 0.8967\n",
      "Epoch 44/50\n",
      "19/19 [==============================] - 82s 4s/step - loss: 0.0407 - accuracy: 0.9942 - val_loss: 0.3948 - val_accuracy: 0.8767\n",
      "Epoch 45/50\n",
      "19/19 [==============================] - 75s 4s/step - loss: 0.0465 - accuracy: 0.9933 - val_loss: 0.3360 - val_accuracy: 0.9000\n",
      "Epoch 46/50\n",
      "19/19 [==============================] - 76s 4s/step - loss: 0.0433 - accuracy: 0.9967 - val_loss: 0.3350 - val_accuracy: 0.8967\n",
      "Epoch 47/50\n",
      "19/19 [==============================] - 76s 4s/step - loss: 0.0374 - accuracy: 0.9967 - val_loss: 0.3690 - val_accuracy: 0.8933\n",
      "Epoch 48/50\n",
      "19/19 [==============================] - 74s 4s/step - loss: 0.0349 - accuracy: 0.9958 - val_loss: 0.3696 - val_accuracy: 0.8933\n",
      "Epoch 49/50\n",
      "19/19 [==============================] - 75s 4s/step - loss: 0.0364 - accuracy: 0.9958 - val_loss: 0.3699 - val_accuracy: 0.8900\n",
      "Epoch 50/50\n",
      "19/19 [==============================] - 74s 4s/step - loss: 0.0386 - accuracy: 0.9975 - val_loss: 0.3849 - val_accuracy: 0.8900\n"
     ]
    }
   ],
   "source": [
    "#Train The Model\n",
    "r = model.fit( \n",
    "     training_set,\n",
    "     validation_data=test_set,\n",
    "     epochs=50,\n",
    "     steps_per_epoch=len(training_set), \n",
    "     validation_steps=len(test_set)\n",
    ")"
   ]
  }
 ],
 "metadata": {
  "kernelspec": {
   "display_name": "tf_gpu",
   "language": "python",
   "name": "python3"
  },
  "language_info": {
   "codemirror_mode": {
    "name": "ipython",
    "version": 3
   },
   "file_extension": ".py",
   "mimetype": "text/x-python",
   "name": "python",
   "nbconvert_exporter": "python",
   "pygments_lexer": "ipython3",
   "version": "3.10.9"
  },
  "orig_nbformat": 4
 },
 "nbformat": 4,
 "nbformat_minor": 2
}
