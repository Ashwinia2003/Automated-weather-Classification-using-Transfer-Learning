{
  "cells": [
    {
      "cell_type": "code",
      "execution_count": 2,
      "metadata": {
        "id": "yfF8A8BGsJ36"
      },
      "outputs": [],
      "source": [
        "import numpy as np\n",
        "import pandas as pd\n",
        "import matplotlib.pyplot as plt\n",
        "from tensorflow.keras.applications.vgg19 import VGG19, preprocess_input\n",
        "from tensorflow.keras.layers import Flatten, Dense\n",
        "from tensorflow.keras.models import Model\n",
        "from tensorflow.keras.preprocessing.image import ImageDataGenerator\n",
        "from PIL import ImageFile\n",
        "from tensorflow.keras.models import load_model\n",
        "from tensorflow.keras.preprocessing import image"
      ]
    },
    {
      "cell_type": "code",
      "execution_count": 3,
      "metadata": {
        "id": "SZObTII-3N_S"
      },
      "outputs": [],
      "source": [
        "from tensorflow.keras.preprocessing.image import ImageDataGenerator \n",
        "train_datagen = ImageDataGenerator (rescale = 1./255, shear_range = 0.2, zoom_range = [.99, 1.01], brightness_range= [0.8, 1.2], data_format= \"channels_last\", fill_mode=\"constant\", horizontal_flip = True)\n",
        "test_datagen = ImageDataGenerator (rescale = 1./255)"
      ]
    },
    {
      "cell_type": "code",
      "execution_count": 4,
      "metadata": {
        "colab": {
          "base_uri": "https://localhost:8080/"
        },
        "id": "-lXihWer3daj",
        "outputId": "eff57c77-c54a-4963-e7bd-d3b71120fa4d"
      },
      "outputs": [
        {
          "name": "stdout",
          "output_type": "stream",
          "text": [
            "Found 1200 images belonging to 5 classes.\n",
            "Found 300 images belonging to 5 classes.\n"
          ]
        }
      ],
      "source": [
        "training_set = train_datagen.flow_from_directory('/content/drive/MyDrive/naan mudhalvan/train_data',target_size = (180, 180),batch_size = 64,class_mode = 'categorical')\n",
        "test_set = test_datagen.flow_from_directory('/content/drive/MyDrive/naan mudhalvan/test_data',target_size = (180, 180),batch_size = 64,class_mode = 'categorical')"
      ]
    },
    {
      "cell_type": "code",
      "execution_count": 5,
      "metadata": {
        "colab": {
          "base_uri": "https://localhost:8080/"
        },
        "id": "-MniNegX32bH",
        "outputId": "4ff803cd-2681-4690-da99-4fa3f717073e"
      },
      "outputs": [
        {
          "name": "stdout",
          "output_type": "stream",
          "text": [
            "Downloading data from https://storage.googleapis.com/tensorflow/keras-applications/vgg19/vgg19_weights_tf_dim_ordering_tf_kernels_notop.h5\n",
            "80134624/80134624 [==============================] - 2s 0us/step\n"
          ]
        }
      ],
      "source": [
        "VGG19 = VGG19(input_shape=[180,180]+ [3], weights='imagenet',include_top=False)\n",
        "for layer in VGG19.layers: layer.trainable = False\n",
        "x = Flatten() (VGG19.output)"
      ]
    },
    {
      "cell_type": "code",
      "execution_count": 6,
      "metadata": {
        "id": "XgRAGcyw4C1H"
      },
      "outputs": [],
      "source": [
        "#Adding Dense Layers\n",
        "prediction = Dense(5, activation = 'softmax')(x)"
      ]
    },
    {
      "cell_type": "code",
      "execution_count": 7,
      "metadata": {
        "colab": {
          "base_uri": "https://localhost:8080/"
        },
        "id": "O75c5YBQ4Hno",
        "outputId": "d7c8d0ba-eea7-42ba-e187-66be2b9f2167"
      },
      "outputs": [
        {
          "data": {
            "text/plain": [
              "<bound method Model.summary of <keras.engine.functional.Functional object at 0x7f63da6828c0>>"
            ]
          },
          "execution_count": 7,
          "metadata": {},
          "output_type": "execute_result"
        }
      ],
      "source": [
        "model = Model(inputs = VGG19.input, outputs=prediction)\n",
        "model.summary"
      ]
    },
    {
      "cell_type": "code",
      "execution_count": 8,
      "metadata": {
        "id": "9DgKHCLL4SCd"
      },
      "outputs": [],
      "source": [
        "# tell the model what cost and optimization method to use \n",
        "model.compile(\n",
        "    loss='categorical_crossentropy', \n",
        "    optimizer='adam',\n",
        "    metrics=['accuracy']\n",
        ")"
      ]
    },
    {
      "cell_type": "code",
      "execution_count": 20,
      "metadata": {
        "colab": {
          "base_uri": "https://localhost:8080/"
        },
        "id": "sNgCOOBw4fgQ",
        "outputId": "7d1dcf76-736e-4f08-8cf3-2510bde99a70"
      },
      "outputs": [
        {
          "name": "stdout",
          "output_type": "stream",
          "text": [
            "Epoch 1/200\n",
            "19/19 [==============================] - 29s 1s/step - loss: 0.0434 - accuracy: 0.9950 - val_loss: 0.3748 - val_accuracy: 0.8933\n",
            "Epoch 2/200\n",
            "19/19 [==============================] - 27s 1s/step - loss: 0.0388 - accuracy: 0.9958 - val_loss: 0.3468 - val_accuracy: 0.9033\n",
            "Epoch 3/200\n",
            "19/19 [==============================] - 27s 1s/step - loss: 0.0360 - accuracy: 0.9967 - val_loss: 0.3802 - val_accuracy: 0.8900\n",
            "Epoch 4/200\n",
            "19/19 [==============================] - 27s 1s/step - loss: 0.0323 - accuracy: 0.9958 - val_loss: 0.3713 - val_accuracy: 0.8967\n",
            "Epoch 5/200\n",
            "19/19 [==============================] - 27s 1s/step - loss: 0.0324 - accuracy: 0.9950 - val_loss: 0.3712 - val_accuracy: 0.8967\n",
            "Epoch 6/200\n",
            "19/19 [==============================] - 27s 1s/step - loss: 0.0300 - accuracy: 0.9983 - val_loss: 0.3653 - val_accuracy: 0.9000\n",
            "Epoch 7/200\n",
            "19/19 [==============================] - 28s 1s/step - loss: 0.0349 - accuracy: 0.9950 - val_loss: 0.3593 - val_accuracy: 0.8867\n",
            "Epoch 8/200\n",
            "19/19 [==============================] - 27s 1s/step - loss: 0.0333 - accuracy: 0.9942 - val_loss: 0.3393 - val_accuracy: 0.9000\n",
            "Epoch 9/200\n",
            "19/19 [==============================] - 27s 1s/step - loss: 0.0322 - accuracy: 0.9958 - val_loss: 0.3468 - val_accuracy: 0.9000\n",
            "Epoch 10/200\n",
            "19/19 [==============================] - 27s 1s/step - loss: 0.0282 - accuracy: 0.9992 - val_loss: 0.3900 - val_accuracy: 0.8933\n",
            "Epoch 11/200\n",
            "19/19 [==============================] - 28s 2s/step - loss: 0.0283 - accuracy: 0.9958 - val_loss: 0.3525 - val_accuracy: 0.9000\n",
            "Epoch 12/200\n",
            "19/19 [==============================] - 27s 1s/step - loss: 0.0283 - accuracy: 0.9975 - val_loss: 0.3937 - val_accuracy: 0.8800\n",
            "Epoch 13/200\n",
            "19/19 [==============================] - 27s 1s/step - loss: 0.0269 - accuracy: 0.9967 - val_loss: 0.3927 - val_accuracy: 0.8833\n",
            "Epoch 14/200\n",
            "19/19 [==============================] - 27s 1s/step - loss: 0.0221 - accuracy: 1.0000 - val_loss: 0.3642 - val_accuracy: 0.8933\n",
            "Epoch 15/200\n",
            "19/19 [==============================] - 27s 1s/step - loss: 0.0233 - accuracy: 0.9992 - val_loss: 0.3590 - val_accuracy: 0.8933\n",
            "Epoch 16/200\n",
            "19/19 [==============================] - 27s 1s/step - loss: 0.0224 - accuracy: 1.0000 - val_loss: 0.3913 - val_accuracy: 0.8833\n",
            "Epoch 17/200\n",
            "19/19 [==============================] - 27s 1s/step - loss: 0.0271 - accuracy: 0.9967 - val_loss: 0.3553 - val_accuracy: 0.9000\n",
            "Epoch 18/200\n",
            "19/19 [==============================] - 30s 2s/step - loss: 0.0273 - accuracy: 0.9958 - val_loss: 0.4073 - val_accuracy: 0.8900\n",
            "Epoch 19/200\n",
            "19/19 [==============================] - 28s 1s/step - loss: 0.0270 - accuracy: 0.9967 - val_loss: 0.4184 - val_accuracy: 0.8800\n",
            "Epoch 20/200\n",
            "19/19 [==============================] - 28s 1s/step - loss: 0.0254 - accuracy: 0.9975 - val_loss: 0.4590 - val_accuracy: 0.8833\n",
            "Epoch 21/200\n",
            "19/19 [==============================] - 27s 1s/step - loss: 0.0342 - accuracy: 0.9925 - val_loss: 0.5669 - val_accuracy: 0.8500\n",
            "Epoch 22/200\n",
            "19/19 [==============================] - 29s 2s/step - loss: 0.0263 - accuracy: 0.9967 - val_loss: 0.5262 - val_accuracy: 0.8800\n",
            "Epoch 23/200\n",
            "19/19 [==============================] - 27s 1s/step - loss: 0.0277 - accuracy: 0.9983 - val_loss: 0.5022 - val_accuracy: 0.8767\n",
            "Epoch 24/200\n",
            "19/19 [==============================] - 27s 1s/step - loss: 0.0254 - accuracy: 0.9975 - val_loss: 0.4089 - val_accuracy: 0.8800\n",
            "Epoch 25/200\n",
            "19/19 [==============================] - 27s 1s/step - loss: 0.0211 - accuracy: 0.9992 - val_loss: 0.4213 - val_accuracy: 0.8833\n",
            "Epoch 26/200\n",
            "19/19 [==============================] - 26s 1s/step - loss: 0.0201 - accuracy: 0.9975 - val_loss: 0.3784 - val_accuracy: 0.8933\n",
            "Epoch 27/200\n",
            "19/19 [==============================] - 27s 1s/step - loss: 0.0210 - accuracy: 0.9992 - val_loss: 0.3766 - val_accuracy: 0.8900\n",
            "Epoch 28/200\n",
            "19/19 [==============================] - 27s 1s/step - loss: 0.0205 - accuracy: 0.9983 - val_loss: 0.3503 - val_accuracy: 0.9067\n",
            "Epoch 29/200\n",
            "19/19 [==============================] - 27s 1s/step - loss: 0.0220 - accuracy: 0.9992 - val_loss: 0.4290 - val_accuracy: 0.8867\n",
            "Epoch 30/200\n",
            "19/19 [==============================] - 27s 1s/step - loss: 0.0186 - accuracy: 1.0000 - val_loss: 0.3908 - val_accuracy: 0.8967\n",
            "Epoch 31/200\n",
            "19/19 [==============================] - 27s 1s/step - loss: 0.0216 - accuracy: 0.9983 - val_loss: 0.3617 - val_accuracy: 0.9000\n",
            "Epoch 32/200\n",
            "19/19 [==============================] - 27s 1s/step - loss: 0.0172 - accuracy: 1.0000 - val_loss: 0.3941 - val_accuracy: 0.8867\n",
            "Epoch 33/200\n",
            "19/19 [==============================] - 29s 2s/step - loss: 0.0170 - accuracy: 1.0000 - val_loss: 0.3819 - val_accuracy: 0.8933\n",
            "Epoch 34/200\n",
            "19/19 [==============================] - 27s 1s/step - loss: 0.0178 - accuracy: 0.9992 - val_loss: 0.3836 - val_accuracy: 0.8967\n",
            "Epoch 35/200\n",
            "19/19 [==============================] - 26s 1s/step - loss: 0.0176 - accuracy: 0.9983 - val_loss: 0.3887 - val_accuracy: 0.8900\n",
            "Epoch 36/200\n",
            "19/19 [==============================] - 27s 1s/step - loss: 0.0182 - accuracy: 0.9983 - val_loss: 0.4087 - val_accuracy: 0.8933\n",
            "Epoch 37/200\n",
            "19/19 [==============================] - 29s 2s/step - loss: 0.0191 - accuracy: 0.9975 - val_loss: 0.3623 - val_accuracy: 0.9067\n",
            "Epoch 38/200\n",
            "19/19 [==============================] - 27s 1s/step - loss: 0.0156 - accuracy: 1.0000 - val_loss: 0.4140 - val_accuracy: 0.8867\n",
            "Epoch 39/200\n",
            "19/19 [==============================] - 26s 1s/step - loss: 0.0189 - accuracy: 0.9975 - val_loss: 0.3535 - val_accuracy: 0.9067\n",
            "Epoch 40/200\n",
            "19/19 [==============================] - 27s 1s/step - loss: 0.0158 - accuracy: 1.0000 - val_loss: 0.4473 - val_accuracy: 0.8833\n",
            "Epoch 41/200\n",
            "19/19 [==============================] - 29s 2s/step - loss: 0.0171 - accuracy: 1.0000 - val_loss: 0.3943 - val_accuracy: 0.8933\n",
            "Epoch 42/200\n",
            "19/19 [==============================] - 27s 1s/step - loss: 0.0148 - accuracy: 0.9983 - val_loss: 0.3767 - val_accuracy: 0.8933\n",
            "Epoch 43/200\n",
            "19/19 [==============================] - 27s 1s/step - loss: 0.0147 - accuracy: 0.9992 - val_loss: 0.3308 - val_accuracy: 0.9167\n",
            "Epoch 44/200\n",
            "19/19 [==============================] - 28s 1s/step - loss: 0.0177 - accuracy: 0.9983 - val_loss: 0.3735 - val_accuracy: 0.9100\n",
            "Epoch 45/200\n",
            "19/19 [==============================] - 28s 1s/step - loss: 0.0135 - accuracy: 1.0000 - val_loss: 0.3695 - val_accuracy: 0.9033\n",
            "Epoch 46/200\n",
            "19/19 [==============================] - 27s 1s/step - loss: 0.0145 - accuracy: 0.9992 - val_loss: 0.3668 - val_accuracy: 0.9067\n",
            "Epoch 47/200\n",
            "19/19 [==============================] - 27s 1s/step - loss: 0.0150 - accuracy: 1.0000 - val_loss: 0.3968 - val_accuracy: 0.8933\n",
            "Epoch 48/200\n",
            "19/19 [==============================] - 29s 2s/step - loss: 0.0149 - accuracy: 0.9992 - val_loss: 0.3821 - val_accuracy: 0.9067\n",
            "Epoch 49/200\n",
            "19/19 [==============================] - 29s 2s/step - loss: 0.0143 - accuracy: 0.9992 - val_loss: 0.3928 - val_accuracy: 0.9000\n",
            "Epoch 50/200\n",
            "19/19 [==============================] - 27s 1s/step - loss: 0.0136 - accuracy: 1.0000 - val_loss: 0.3463 - val_accuracy: 0.9100\n",
            "Epoch 51/200\n",
            "19/19 [==============================] - 27s 1s/step - loss: 0.0151 - accuracy: 1.0000 - val_loss: 0.3681 - val_accuracy: 0.9067\n",
            "Epoch 52/200\n",
            "19/19 [==============================] - 27s 1s/step - loss: 0.0144 - accuracy: 1.0000 - val_loss: 0.4159 - val_accuracy: 0.8867\n",
            "Epoch 53/200\n",
            "19/19 [==============================] - 27s 1s/step - loss: 0.0130 - accuracy: 0.9983 - val_loss: 0.4178 - val_accuracy: 0.8867\n",
            "Epoch 54/200\n",
            "19/19 [==============================] - 27s 1s/step - loss: 0.0122 - accuracy: 1.0000 - val_loss: 0.3967 - val_accuracy: 0.8900\n",
            "Epoch 55/200\n",
            "19/19 [==============================] - 27s 1s/step - loss: 0.0127 - accuracy: 1.0000 - val_loss: 0.3938 - val_accuracy: 0.9000\n",
            "Epoch 56/200\n",
            "19/19 [==============================] - 27s 1s/step - loss: 0.0100 - accuracy: 1.0000 - val_loss: 0.4081 - val_accuracy: 0.8967\n",
            "Epoch 57/200\n",
            "19/19 [==============================] - 29s 2s/step - loss: 0.0130 - accuracy: 0.9992 - val_loss: 0.3508 - val_accuracy: 0.9133\n",
            "Epoch 58/200\n",
            "19/19 [==============================] - 27s 1s/step - loss: 0.0131 - accuracy: 0.9992 - val_loss: 0.4017 - val_accuracy: 0.9000\n",
            "Epoch 59/200\n",
            "19/19 [==============================] - 27s 1s/step - loss: 0.0140 - accuracy: 0.9983 - val_loss: 0.3881 - val_accuracy: 0.8967\n",
            "Epoch 60/200\n",
            "19/19 [==============================] - 27s 1s/step - loss: 0.0108 - accuracy: 1.0000 - val_loss: 0.3961 - val_accuracy: 0.8933\n",
            "Epoch 61/200\n",
            "19/19 [==============================] - 27s 1s/step - loss: 0.0112 - accuracy: 1.0000 - val_loss: 0.4058 - val_accuracy: 0.8900\n",
            "Epoch 62/200\n",
            "19/19 [==============================] - 27s 1s/step - loss: 0.0113 - accuracy: 1.0000 - val_loss: 0.4284 - val_accuracy: 0.8900\n",
            "Epoch 63/200\n",
            "19/19 [==============================] - 27s 1s/step - loss: 0.0105 - accuracy: 1.0000 - val_loss: 0.4582 - val_accuracy: 0.8800\n",
            "Epoch 64/200\n",
            "19/19 [==============================] - 27s 1s/step - loss: 0.0125 - accuracy: 0.9992 - val_loss: 0.4656 - val_accuracy: 0.8833\n",
            "Epoch 65/200\n",
            "19/19 [==============================] - 27s 1s/step - loss: 0.0114 - accuracy: 1.0000 - val_loss: 0.4344 - val_accuracy: 0.8833\n",
            "Epoch 66/200\n",
            "19/19 [==============================] - 29s 2s/step - loss: 0.0105 - accuracy: 1.0000 - val_loss: 0.3848 - val_accuracy: 0.9033\n",
            "Epoch 67/200\n",
            "19/19 [==============================] - 27s 1s/step - loss: 0.0097 - accuracy: 1.0000 - val_loss: 0.4644 - val_accuracy: 0.8833\n",
            "Epoch 68/200\n",
            "19/19 [==============================] - 30s 2s/step - loss: 0.0134 - accuracy: 0.9983 - val_loss: 0.4960 - val_accuracy: 0.8833\n",
            "Epoch 69/200\n",
            "19/19 [==============================] - 27s 1s/step - loss: 0.0151 - accuracy: 0.9983 - val_loss: 0.4842 - val_accuracy: 0.8833\n",
            "Epoch 70/200\n",
            "19/19 [==============================] - 27s 1s/step - loss: 0.0107 - accuracy: 0.9992 - val_loss: 0.3866 - val_accuracy: 0.9067\n",
            "Epoch 71/200\n",
            "19/19 [==============================] - 27s 1s/step - loss: 0.0101 - accuracy: 1.0000 - val_loss: 0.3824 - val_accuracy: 0.9067\n",
            "Epoch 72/200\n",
            "19/19 [==============================] - 27s 1s/step - loss: 0.0103 - accuracy: 0.9992 - val_loss: 0.4015 - val_accuracy: 0.8967\n",
            "Epoch 73/200\n",
            "19/19 [==============================] - 27s 1s/step - loss: 0.0091 - accuracy: 1.0000 - val_loss: 0.4237 - val_accuracy: 0.8900\n",
            "Epoch 74/200\n",
            "19/19 [==============================] - 27s 1s/step - loss: 0.0090 - accuracy: 1.0000 - val_loss: 0.4324 - val_accuracy: 0.8933\n",
            "Epoch 75/200\n",
            "19/19 [==============================] - 26s 1s/step - loss: 0.0088 - accuracy: 1.0000 - val_loss: 0.3822 - val_accuracy: 0.9067\n",
            "Epoch 76/200\n",
            "19/19 [==============================] - 27s 1s/step - loss: 0.0112 - accuracy: 0.9992 - val_loss: 0.3982 - val_accuracy: 0.9033\n",
            "Epoch 77/200\n",
            "19/19 [==============================] - 28s 1s/step - loss: 0.0087 - accuracy: 1.0000 - val_loss: 0.4016 - val_accuracy: 0.8967\n",
            "Epoch 78/200\n",
            "19/19 [==============================] - 28s 1s/step - loss: 0.0090 - accuracy: 1.0000 - val_loss: 0.4431 - val_accuracy: 0.8867\n",
            "Epoch 79/200\n",
            "19/19 [==============================] - 28s 1s/step - loss: 0.0083 - accuracy: 0.9992 - val_loss: 0.3904 - val_accuracy: 0.8967\n",
            "Epoch 80/200\n",
            "19/19 [==============================] - 28s 1s/step - loss: 0.0085 - accuracy: 1.0000 - val_loss: 0.4440 - val_accuracy: 0.8900\n",
            "Epoch 81/200\n",
            "19/19 [==============================] - 28s 1s/step - loss: 0.0094 - accuracy: 0.9992 - val_loss: 0.4472 - val_accuracy: 0.8833\n",
            "Epoch 82/200\n",
            "19/19 [==============================] - 28s 1s/step - loss: 0.0097 - accuracy: 0.9992 - val_loss: 0.4366 - val_accuracy: 0.8833\n",
            "Epoch 83/200\n",
            "19/19 [==============================] - 28s 1s/step - loss: 0.0077 - accuracy: 1.0000 - val_loss: 0.4157 - val_accuracy: 0.8967\n",
            "Epoch 84/200\n",
            "19/19 [==============================] - 28s 1s/step - loss: 0.0095 - accuracy: 0.9983 - val_loss: 0.4443 - val_accuracy: 0.8933\n",
            "Epoch 85/200\n",
            "19/19 [==============================] - 28s 1s/step - loss: 0.0092 - accuracy: 0.9992 - val_loss: 0.3934 - val_accuracy: 0.9033\n",
            "Epoch 86/200\n",
            "19/19 [==============================] - 27s 1s/step - loss: 0.0085 - accuracy: 0.9992 - val_loss: 0.4406 - val_accuracy: 0.8900\n",
            "Epoch 87/200\n",
            "19/19 [==============================] - 28s 1s/step - loss: 0.0083 - accuracy: 1.0000 - val_loss: 0.4026 - val_accuracy: 0.8967\n",
            "Epoch 88/200\n",
            "19/19 [==============================] - 28s 1s/step - loss: 0.0073 - accuracy: 1.0000 - val_loss: 0.5145 - val_accuracy: 0.8833\n",
            "Epoch 89/200\n",
            "19/19 [==============================] - 28s 1s/step - loss: 0.0080 - accuracy: 0.9992 - val_loss: 0.3971 - val_accuracy: 0.9033\n",
            "Epoch 90/200\n",
            "19/19 [==============================] - 28s 1s/step - loss: 0.0086 - accuracy: 1.0000 - val_loss: 0.4039 - val_accuracy: 0.9000\n",
            "Epoch 91/200\n",
            "19/19 [==============================] - 28s 1s/step - loss: 0.0069 - accuracy: 1.0000 - val_loss: 0.4660 - val_accuracy: 0.8867\n",
            "Epoch 92/200\n",
            "19/19 [==============================] - 28s 1s/step - loss: 0.0071 - accuracy: 1.0000 - val_loss: 0.4214 - val_accuracy: 0.8933\n",
            "Epoch 93/200\n",
            "19/19 [==============================] - 28s 1s/step - loss: 0.0062 - accuracy: 1.0000 - val_loss: 0.4183 - val_accuracy: 0.8967\n",
            "Epoch 94/200\n",
            "19/19 [==============================] - 28s 1s/step - loss: 0.0073 - accuracy: 0.9992 - val_loss: 0.4992 - val_accuracy: 0.8800\n",
            "Epoch 95/200\n",
            "19/19 [==============================] - 28s 1s/step - loss: 0.0076 - accuracy: 1.0000 - val_loss: 0.4510 - val_accuracy: 0.8867\n",
            "Epoch 96/200\n",
            "19/19 [==============================] - 28s 1s/step - loss: 0.0069 - accuracy: 1.0000 - val_loss: 0.4542 - val_accuracy: 0.8833\n",
            "Epoch 97/200\n",
            "19/19 [==============================] - 28s 1s/step - loss: 0.0071 - accuracy: 1.0000 - val_loss: 0.4622 - val_accuracy: 0.8867\n",
            "Epoch 98/200\n",
            "19/19 [==============================] - 28s 1s/step - loss: 0.0082 - accuracy: 1.0000 - val_loss: 0.4204 - val_accuracy: 0.8967\n",
            "Epoch 99/200\n",
            "19/19 [==============================] - 28s 2s/step - loss: 0.0067 - accuracy: 1.0000 - val_loss: 0.3836 - val_accuracy: 0.9000\n",
            "Epoch 100/200\n",
            "19/19 [==============================] - 29s 2s/step - loss: 0.0066 - accuracy: 1.0000 - val_loss: 0.4159 - val_accuracy: 0.9033\n",
            "Epoch 101/200\n",
            "19/19 [==============================] - 28s 1s/step - loss: 0.0062 - accuracy: 1.0000 - val_loss: 0.4109 - val_accuracy: 0.8967\n",
            "Epoch 102/200\n",
            "19/19 [==============================] - 28s 1s/step - loss: 0.0072 - accuracy: 1.0000 - val_loss: 0.3893 - val_accuracy: 0.9067\n",
            "Epoch 103/200\n",
            "19/19 [==============================] - 28s 1s/step - loss: 0.0074 - accuracy: 1.0000 - val_loss: 0.4260 - val_accuracy: 0.9000\n",
            "Epoch 104/200\n",
            "19/19 [==============================] - 28s 1s/step - loss: 0.0068 - accuracy: 1.0000 - val_loss: 0.4337 - val_accuracy: 0.8967\n",
            "Epoch 105/200\n",
            "19/19 [==============================] - 27s 1s/step - loss: 0.0062 - accuracy: 1.0000 - val_loss: 0.4246 - val_accuracy: 0.8967\n",
            "Epoch 106/200\n",
            "19/19 [==============================] - 27s 1s/step - loss: 0.0064 - accuracy: 1.0000 - val_loss: 0.4675 - val_accuracy: 0.8833\n",
            "Epoch 107/200\n",
            "19/19 [==============================] - 27s 1s/step - loss: 0.0064 - accuracy: 1.0000 - val_loss: 0.4823 - val_accuracy: 0.8867\n",
            "Epoch 108/200\n",
            "19/19 [==============================] - 30s 2s/step - loss: 0.0071 - accuracy: 1.0000 - val_loss: 0.4305 - val_accuracy: 0.8933\n",
            "Epoch 109/200\n",
            "19/19 [==============================] - 27s 1s/step - loss: 0.0062 - accuracy: 1.0000 - val_loss: 0.4328 - val_accuracy: 0.8933\n",
            "Epoch 110/200\n",
            "19/19 [==============================] - 27s 1s/step - loss: 0.0052 - accuracy: 1.0000 - val_loss: 0.4484 - val_accuracy: 0.8900\n",
            "Epoch 111/200\n",
            "19/19 [==============================] - 27s 1s/step - loss: 0.0061 - accuracy: 1.0000 - val_loss: 0.4299 - val_accuracy: 0.8933\n",
            "Epoch 112/200\n",
            "19/19 [==============================] - 27s 1s/step - loss: 0.0053 - accuracy: 1.0000 - val_loss: 0.4526 - val_accuracy: 0.8933\n",
            "Epoch 113/200\n",
            "19/19 [==============================] - 26s 1s/step - loss: 0.0055 - accuracy: 1.0000 - val_loss: 0.4535 - val_accuracy: 0.8967\n",
            "Epoch 114/200\n",
            "19/19 [==============================] - 27s 1s/step - loss: 0.0081 - accuracy: 0.9983 - val_loss: 0.4047 - val_accuracy: 0.8967\n",
            "Epoch 115/200\n",
            "19/19 [==============================] - 27s 1s/step - loss: 0.0063 - accuracy: 0.9992 - val_loss: 0.4490 - val_accuracy: 0.8967\n",
            "Epoch 116/200\n",
            "19/19 [==============================] - 27s 1s/step - loss: 0.0070 - accuracy: 1.0000 - val_loss: 0.4493 - val_accuracy: 0.8933\n",
            "Epoch 117/200\n",
            "19/19 [==============================] - 30s 2s/step - loss: 0.0053 - accuracy: 1.0000 - val_loss: 0.4575 - val_accuracy: 0.8933\n",
            "Epoch 118/200\n",
            "19/19 [==============================] - 28s 1s/step - loss: 0.0050 - accuracy: 1.0000 - val_loss: 0.4697 - val_accuracy: 0.8900\n",
            "Epoch 119/200\n",
            "19/19 [==============================] - 28s 1s/step - loss: 0.0055 - accuracy: 1.0000 - val_loss: 0.4667 - val_accuracy: 0.8867\n",
            "Epoch 120/200\n",
            "19/19 [==============================] - 27s 1s/step - loss: 0.0069 - accuracy: 0.9983 - val_loss: 0.4212 - val_accuracy: 0.8900\n",
            "Epoch 121/200\n",
            "19/19 [==============================] - 28s 1s/step - loss: 0.0054 - accuracy: 1.0000 - val_loss: 0.5119 - val_accuracy: 0.8833\n",
            "Epoch 122/200\n",
            "19/19 [==============================] - 27s 1s/step - loss: 0.0052 - accuracy: 1.0000 - val_loss: 0.4956 - val_accuracy: 0.8867\n",
            "Epoch 123/200\n",
            "19/19 [==============================] - 29s 2s/step - loss: 0.0080 - accuracy: 0.9992 - val_loss: 0.5094 - val_accuracy: 0.8833\n",
            "Epoch 124/200\n",
            "19/19 [==============================] - 26s 1s/step - loss: 0.0066 - accuracy: 1.0000 - val_loss: 0.4901 - val_accuracy: 0.8933\n",
            "Epoch 125/200\n",
            "19/19 [==============================] - 27s 1s/step - loss: 0.0068 - accuracy: 0.9992 - val_loss: 0.5036 - val_accuracy: 0.8933\n",
            "Epoch 126/200\n",
            "19/19 [==============================] - 29s 2s/step - loss: 0.0058 - accuracy: 1.0000 - val_loss: 0.4164 - val_accuracy: 0.9033\n",
            "Epoch 127/200\n",
            "19/19 [==============================] - 27s 1s/step - loss: 0.0052 - accuracy: 1.0000 - val_loss: 0.4390 - val_accuracy: 0.9000\n",
            "Epoch 128/200\n",
            "19/19 [==============================] - 29s 2s/step - loss: 0.0044 - accuracy: 1.0000 - val_loss: 0.5048 - val_accuracy: 0.8933\n",
            "Epoch 129/200\n",
            "19/19 [==============================] - 27s 1s/step - loss: 0.0051 - accuracy: 1.0000 - val_loss: 0.4723 - val_accuracy: 0.8933\n",
            "Epoch 130/200\n",
            "19/19 [==============================] - 27s 1s/step - loss: 0.0055 - accuracy: 1.0000 - val_loss: 0.4442 - val_accuracy: 0.8933\n",
            "Epoch 131/200\n",
            "19/19 [==============================] - 29s 2s/step - loss: 0.0054 - accuracy: 1.0000 - val_loss: 0.4000 - val_accuracy: 0.9133\n",
            "Epoch 132/200\n",
            "19/19 [==============================] - 29s 2s/step - loss: 0.0054 - accuracy: 1.0000 - val_loss: 0.4196 - val_accuracy: 0.9033\n",
            "Epoch 133/200\n",
            "19/19 [==============================] - 27s 1s/step - loss: 0.0049 - accuracy: 1.0000 - val_loss: 0.4472 - val_accuracy: 0.8933\n",
            "Epoch 134/200\n",
            "19/19 [==============================] - 27s 1s/step - loss: 0.0055 - accuracy: 1.0000 - val_loss: 0.4279 - val_accuracy: 0.8967\n",
            "Epoch 135/200\n",
            "19/19 [==============================] - 26s 1s/step - loss: 0.0049 - accuracy: 1.0000 - val_loss: 0.4901 - val_accuracy: 0.8867\n",
            "Epoch 136/200\n",
            "19/19 [==============================] - 27s 1s/step - loss: 0.0054 - accuracy: 1.0000 - val_loss: 0.4799 - val_accuracy: 0.8933\n",
            "Epoch 137/200\n",
            "19/19 [==============================] - 27s 1s/step - loss: 0.0044 - accuracy: 1.0000 - val_loss: 0.4638 - val_accuracy: 0.8933\n",
            "Epoch 138/200\n",
            "19/19 [==============================] - 27s 1s/step - loss: 0.0042 - accuracy: 1.0000 - val_loss: 0.4610 - val_accuracy: 0.8933\n",
            "Epoch 139/200\n",
            "19/19 [==============================] - 27s 1s/step - loss: 0.0042 - accuracy: 1.0000 - val_loss: 0.5370 - val_accuracy: 0.8867\n",
            "Epoch 140/200\n",
            "19/19 [==============================] - 27s 1s/step - loss: 0.0036 - accuracy: 1.0000 - val_loss: 0.4516 - val_accuracy: 0.8933\n",
            "Epoch 141/200\n",
            "19/19 [==============================] - 27s 1s/step - loss: 0.0047 - accuracy: 1.0000 - val_loss: 0.4582 - val_accuracy: 0.9067\n",
            "Epoch 142/200\n",
            "19/19 [==============================] - 27s 1s/step - loss: 0.0038 - accuracy: 1.0000 - val_loss: 0.4698 - val_accuracy: 0.8933\n",
            "Epoch 143/200\n",
            "19/19 [==============================] - 28s 1s/step - loss: 0.0039 - accuracy: 1.0000 - val_loss: 0.4511 - val_accuracy: 0.8967\n",
            "Epoch 144/200\n",
            "19/19 [==============================] - 28s 1s/step - loss: 0.0041 - accuracy: 1.0000 - val_loss: 0.4854 - val_accuracy: 0.8933\n",
            "Epoch 145/200\n",
            "19/19 [==============================] - 27s 1s/step - loss: 0.0046 - accuracy: 1.0000 - val_loss: 0.5865 - val_accuracy: 0.8833\n",
            "Epoch 146/200\n",
            "19/19 [==============================] - 28s 1s/step - loss: 0.0053 - accuracy: 1.0000 - val_loss: 0.4837 - val_accuracy: 0.8867\n",
            "Epoch 147/200\n",
            "19/19 [==============================] - 27s 1s/step - loss: 0.0041 - accuracy: 1.0000 - val_loss: 0.5604 - val_accuracy: 0.8867\n",
            "Epoch 148/200\n",
            "19/19 [==============================] - 28s 1s/step - loss: 0.0035 - accuracy: 1.0000 - val_loss: 0.5005 - val_accuracy: 0.8967\n",
            "Epoch 149/200\n",
            "19/19 [==============================] - 28s 1s/step - loss: 0.0038 - accuracy: 1.0000 - val_loss: 0.4709 - val_accuracy: 0.8933\n",
            "Epoch 150/200\n",
            "19/19 [==============================] - 27s 1s/step - loss: 0.0034 - accuracy: 1.0000 - val_loss: 0.4711 - val_accuracy: 0.8933\n",
            "Epoch 151/200\n",
            "19/19 [==============================] - 27s 1s/step - loss: 0.0041 - accuracy: 1.0000 - val_loss: 0.4566 - val_accuracy: 0.8933\n",
            "Epoch 152/200\n",
            "19/19 [==============================] - 27s 1s/step - loss: 0.0041 - accuracy: 1.0000 - val_loss: 0.4607 - val_accuracy: 0.8967\n",
            "Epoch 153/200\n",
            "19/19 [==============================] - 28s 1s/step - loss: 0.0036 - accuracy: 1.0000 - val_loss: 0.4755 - val_accuracy: 0.8900\n",
            "Epoch 154/200\n",
            "19/19 [==============================] - 27s 1s/step - loss: 0.0040 - accuracy: 1.0000 - val_loss: 0.4932 - val_accuracy: 0.8900\n",
            "Epoch 155/200\n",
            "19/19 [==============================] - 27s 1s/step - loss: 0.0033 - accuracy: 1.0000 - val_loss: 0.5191 - val_accuracy: 0.8833\n",
            "Epoch 156/200\n",
            "19/19 [==============================] - 27s 1s/step - loss: 0.0044 - accuracy: 0.9992 - val_loss: 0.4193 - val_accuracy: 0.9067\n",
            "Epoch 157/200\n",
            "19/19 [==============================] - 27s 1s/step - loss: 0.0046 - accuracy: 1.0000 - val_loss: 0.4512 - val_accuracy: 0.8967\n",
            "Epoch 158/200\n",
            "19/19 [==============================] - 28s 1s/step - loss: 0.0033 - accuracy: 1.0000 - val_loss: 0.4994 - val_accuracy: 0.8933\n",
            "Epoch 159/200\n",
            "19/19 [==============================] - 28s 1s/step - loss: 0.0042 - accuracy: 1.0000 - val_loss: 0.4271 - val_accuracy: 0.9033\n",
            "Epoch 160/200\n",
            "19/19 [==============================] - 28s 1s/step - loss: 0.0045 - accuracy: 1.0000 - val_loss: 0.4711 - val_accuracy: 0.9033\n",
            "Epoch 161/200\n",
            "19/19 [==============================] - 27s 1s/step - loss: 0.0032 - accuracy: 1.0000 - val_loss: 0.5196 - val_accuracy: 0.8867\n",
            "Epoch 162/200\n",
            "19/19 [==============================] - 28s 1s/step - loss: 0.0031 - accuracy: 1.0000 - val_loss: 0.4462 - val_accuracy: 0.8967\n",
            "Epoch 163/200\n",
            "19/19 [==============================] - 29s 2s/step - loss: 0.0029 - accuracy: 1.0000 - val_loss: 0.4857 - val_accuracy: 0.8933\n",
            "Epoch 164/200\n",
            "19/19 [==============================] - 27s 1s/step - loss: 0.0028 - accuracy: 1.0000 - val_loss: 0.4653 - val_accuracy: 0.9000\n",
            "Epoch 165/200\n",
            "19/19 [==============================] - 28s 1s/step - loss: 0.0043 - accuracy: 0.9992 - val_loss: 0.4457 - val_accuracy: 0.9033\n",
            "Epoch 166/200\n",
            "19/19 [==============================] - 28s 1s/step - loss: 0.0031 - accuracy: 1.0000 - val_loss: 0.4715 - val_accuracy: 0.8933\n",
            "Epoch 167/200\n",
            "19/19 [==============================] - 28s 1s/step - loss: 0.0036 - accuracy: 1.0000 - val_loss: 0.3932 - val_accuracy: 0.9133\n",
            "Epoch 168/200\n",
            "19/19 [==============================] - 28s 1s/step - loss: 0.0066 - accuracy: 0.9983 - val_loss: 0.4142 - val_accuracy: 0.9033\n",
            "Epoch 169/200\n",
            "19/19 [==============================] - 31s 2s/step - loss: 0.0054 - accuracy: 1.0000 - val_loss: 0.4885 - val_accuracy: 0.8933\n",
            "Epoch 170/200\n",
            "19/19 [==============================] - 31s 2s/step - loss: 0.0035 - accuracy: 1.0000 - val_loss: 0.5462 - val_accuracy: 0.8867\n",
            "Epoch 171/200\n",
            "19/19 [==============================] - 28s 1s/step - loss: 0.0031 - accuracy: 1.0000 - val_loss: 0.4270 - val_accuracy: 0.9033\n",
            "Epoch 172/200\n",
            "19/19 [==============================] - 28s 1s/step - loss: 0.0031 - accuracy: 1.0000 - val_loss: 0.5131 - val_accuracy: 0.8933\n",
            "Epoch 173/200\n",
            "19/19 [==============================] - 28s 1s/step - loss: 0.0038 - accuracy: 1.0000 - val_loss: 0.4812 - val_accuracy: 0.9067\n",
            "Epoch 174/200\n",
            "19/19 [==============================] - 28s 1s/step - loss: 0.0025 - accuracy: 1.0000 - val_loss: 0.4960 - val_accuracy: 0.8900\n",
            "Epoch 175/200\n",
            "19/19 [==============================] - 28s 1s/step - loss: 0.0031 - accuracy: 1.0000 - val_loss: 0.4732 - val_accuracy: 0.9000\n",
            "Epoch 176/200\n",
            "19/19 [==============================] - 31s 2s/step - loss: 0.0029 - accuracy: 1.0000 - val_loss: 0.4749 - val_accuracy: 0.8900\n",
            "Epoch 177/200\n",
            "19/19 [==============================] - 29s 2s/step - loss: 0.0031 - accuracy: 1.0000 - val_loss: 0.5189 - val_accuracy: 0.8900\n",
            "Epoch 178/200\n",
            "19/19 [==============================] - 28s 2s/step - loss: 0.0031 - accuracy: 1.0000 - val_loss: 0.4821 - val_accuracy: 0.8933\n",
            "Epoch 179/200\n",
            "19/19 [==============================] - 28s 1s/step - loss: 0.0034 - accuracy: 1.0000 - val_loss: 0.4709 - val_accuracy: 0.9000\n",
            "Epoch 180/200\n",
            "19/19 [==============================] - 28s 1s/step - loss: 0.0027 - accuracy: 1.0000 - val_loss: 0.5092 - val_accuracy: 0.8933\n",
            "Epoch 181/200\n",
            "19/19 [==============================] - 28s 1s/step - loss: 0.0028 - accuracy: 1.0000 - val_loss: 0.4873 - val_accuracy: 0.8967\n",
            "Epoch 182/200\n",
            "19/19 [==============================] - 28s 1s/step - loss: 0.0026 - accuracy: 1.0000 - val_loss: 0.5174 - val_accuracy: 0.8933\n",
            "Epoch 183/200\n",
            "19/19 [==============================] - 27s 1s/step - loss: 0.0029 - accuracy: 1.0000 - val_loss: 0.4995 - val_accuracy: 0.8900\n",
            "Epoch 184/200\n",
            "19/19 [==============================] - 28s 1s/step - loss: 0.0024 - accuracy: 1.0000 - val_loss: 0.4922 - val_accuracy: 0.8967\n",
            "Epoch 185/200\n",
            "19/19 [==============================] - 28s 1s/step - loss: 0.0025 - accuracy: 1.0000 - val_loss: 0.4829 - val_accuracy: 0.8933\n",
            "Epoch 186/200\n",
            "19/19 [==============================] - 27s 1s/step - loss: 0.0026 - accuracy: 1.0000 - val_loss: 0.5082 - val_accuracy: 0.8933\n",
            "Epoch 187/200\n",
            "19/19 [==============================] - 28s 1s/step - loss: 0.0028 - accuracy: 1.0000 - val_loss: 0.4562 - val_accuracy: 0.8967\n",
            "Epoch 188/200\n",
            "19/19 [==============================] - 28s 1s/step - loss: 0.0026 - accuracy: 1.0000 - val_loss: 0.4965 - val_accuracy: 0.8967\n",
            "Epoch 189/200\n",
            "19/19 [==============================] - 28s 1s/step - loss: 0.0025 - accuracy: 1.0000 - val_loss: 0.5448 - val_accuracy: 0.8933\n",
            "Epoch 190/200\n",
            "19/19 [==============================] - 28s 1s/step - loss: 0.0025 - accuracy: 1.0000 - val_loss: 0.5263 - val_accuracy: 0.9033\n",
            "Epoch 191/200\n",
            "19/19 [==============================] - 28s 1s/step - loss: 0.0024 - accuracy: 1.0000 - val_loss: 0.5219 - val_accuracy: 0.8900\n",
            "Epoch 192/200\n",
            "19/19 [==============================] - 27s 1s/step - loss: 0.0022 - accuracy: 1.0000 - val_loss: 0.4986 - val_accuracy: 0.8900\n",
            "Epoch 193/200\n",
            "19/19 [==============================] - 27s 1s/step - loss: 0.0025 - accuracy: 1.0000 - val_loss: 0.4536 - val_accuracy: 0.9067\n",
            "Epoch 194/200\n",
            "19/19 [==============================] - 28s 1s/step - loss: 0.0023 - accuracy: 1.0000 - val_loss: 0.5094 - val_accuracy: 0.8933\n",
            "Epoch 195/200\n",
            "19/19 [==============================] - 28s 1s/step - loss: 0.0020 - accuracy: 1.0000 - val_loss: 0.5330 - val_accuracy: 0.8933\n",
            "Epoch 196/200\n",
            "19/19 [==============================] - 29s 1s/step - loss: 0.0023 - accuracy: 1.0000 - val_loss: 0.4639 - val_accuracy: 0.9067\n",
            "Epoch 197/200\n",
            "19/19 [==============================] - 28s 1s/step - loss: 0.0025 - accuracy: 1.0000 - val_loss: 0.4446 - val_accuracy: 0.9033\n",
            "Epoch 198/200\n",
            "19/19 [==============================] - 28s 1s/step - loss: 0.0023 - accuracy: 1.0000 - val_loss: 0.5296 - val_accuracy: 0.8933\n",
            "Epoch 199/200\n",
            "19/19 [==============================] - 28s 1s/step - loss: 0.0023 - accuracy: 1.0000 - val_loss: 0.4876 - val_accuracy: 0.8967\n",
            "Epoch 200/200\n",
            "19/19 [==============================] - 27s 1s/step - loss: 0.0022 - accuracy: 1.0000 - val_loss: 0.5266 - val_accuracy: 0.8900\n"
          ]
        }
      ],
      "source": [
        "#Train The Model\n",
        "r = model.fit( \n",
        "     training_set,\n",
        "     validation_data=test_set,\n",
        "     epochs=200,\n",
        "     steps_per_epoch=len(training_set), \n",
        "     validation_steps=len(test_set)\n",
        ")"
      ]
    },
    {
      "cell_type": "code",
      "execution_count": 21,
      "metadata": {
        "colab": {
          "base_uri": "https://localhost:8080/"
        },
        "id": "xERZJ-qbfeZ-",
        "outputId": "ea3ad2be-4075-41d7-b387-0bc1ed6c7c1b"
      },
      "outputs": [
        {
          "name": "stdout",
          "output_type": "stream",
          "text": [
            "11/11 - 8s - loss: 0.5089 - accuracy: 0.8901 - 8s/epoch - 688ms/step\n",
            "Model performance on test images\"\n",
            "Accuracy = 0.8900602459907532\n",
            "loss=0.5088663101196289\n"
          ]
        }
      ],
      "source": [
        "loss, accuracy = model.evaluate(test_set,\n",
        "                                steps=11,\n",
        "                                verbose=2,\n",
        "                                use_multiprocessing=True,\n",
        "                                workers=2)\n",
        "print(f'Model performance on test images\"\\nAccuracy = {accuracy}\\nloss={loss}')"
      ]
    },
    {
      "cell_type": "code",
      "execution_count": 11,
      "metadata": {
        "id": "N6oMhoozhuHN"
      },
      "outputs": [],
      "source": [
        "model.save('model.h5')"
      ]
    },
    {
      "cell_type": "code",
      "execution_count": 22,
      "metadata": {
        "id": "DqfTyyziiSPF"
      },
      "outputs": [],
      "source": [
        "from tensorflow.keras.models import load_model\n",
        "from tensorflow.keras.preprocessing import image\n",
        "import numpy as np\n",
        "model=load_model(\"/content/model.h5\")"
      ]
    },
    {
      "cell_type": "code",
      "execution_count": null,
      "metadata": {
        "id": "oC3uQTixlfDT"
      },
      "outputs": [],
      "source": [
        "img = image.load_img(r\"/content/drive/MyDrive/naan mudhalvan/test_data/foggy/foggy243.jpg\",target_size= (180,180))#loading of the image -\n",
        "X = image.img_to_array(img)#image to array\n",
        "X = np.expand_dims(x,axis= 0) #changing the shape\n",
        "preds=model.predict(x)\n",
        "pred=np.argmax(preds,axis=1)\n",
        "index=['cloudy', 'foggy', 'rainy', 'shine', 'sunrise']\n",
        "result=str(index[pred[0]])\n",
        "result"
      ]
    },
    {
      "cell_type": "code",
      "execution_count": 23,
      "metadata": {
        "colab": {
          "base_uri": "https://localhost:8080/",
          "height": 53
        },
        "id": "haJftILFpmrE",
        "outputId": "1bdee5b6-4b01-40cd-e313-658684813256"
      },
      "outputs": [
        {
          "name": "stdout",
          "output_type": "stream",
          "text": [
            "1/1 [==============================] - 0s 159ms/step\n"
          ]
        },
        {
          "data": {
            "application/vnd.google.colaboratory.intrinsic+json": {
              "type": "string"
            },
            "text/plain": [
              "'shine'"
            ]
          },
          "execution_count": 23,
          "metadata": {},
          "output_type": "execute_result"
        }
      ],
      "source": [
        "img = image.load_img(r\"/content/drive/MyDrive/naan mudhalvan/test_data/shine/shine202.jpg\", target_size=(180, 180)) # loading the image\n",
        "X = image.img_to_array(img) # convert the image to an array\n",
        "X = np.expand_dims(X, axis=0) # expand the dimensions of the array\n",
        "preds = model.predict(X)\n",
        "pred = np.argmax(preds, axis=1)\n",
        "index = ['cloudy', 'foggy', 'rainy', 'shine', 'sunrise']\n",
        "result = str(index[pred[0]])\n",
        "result\n"
      ]
    },
    {
      "cell_type": "code",
      "execution_count": null,
      "metadata": {
        "id": "XnkZXUqziSbB"
      },
      "outputs": [],
      "source": [
        "/content/drive/MyDrive/naan mudhalvan/test_data/foggy/foggy243.jpg"
      ]
    }
  ],
  "metadata": {
    "accelerator": "GPU",
    "colab": {
      "gpuType": "T4",
      "provenance": []
    },
    "gpuClass": "standard",
    "kernelspec": {
      "display_name": "Python 3",
      "name": "python3"
    },
    "language_info": {
      "name": "python"
    }
  },
  "nbformat": 4,
  "nbformat_minor": 0
}
