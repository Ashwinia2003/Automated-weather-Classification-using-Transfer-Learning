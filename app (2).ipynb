{
  "cells": [
    {
      "cell_type": "code",
      "execution_count": null,
      "metadata": {
        "id": "yfF8A8BGsJ36"
      },
      "outputs": [],
      "source": [
        "import numpy as np\n",
        "import pandas as pd\n",
        "import matplotlib.pyplot as plt\n",
        "from tensorflow.keras.applications.vgg19 import VGG19, preprocess_input\n",
        "from tensorflow.keras.layers import Flatten, Dense\n",
        "from tensorflow.keras.models import Model\n",
        "from tensorflow.keras.preprocessing.image import ImageDataGenerator\n",
        "from PIL import ImageFile\n",
        "from tensorflow.keras.models import load_model\n",
        "from tensorflow.keras.preprocessing import image"
      ]
    },
    {
      "cell_type": "code",
      "execution_count": null,
      "metadata": {
        "id": "SZObTII-3N_S"
      },
      "outputs": [],
      "source": [
        "from tensorflow.keras.preprocessing.image import ImageDataGenerator\n",
        "train_datagen = ImageDataGenerator (rescale = 1./255, shear_range = 0.2, zoom_range = [.99, 1.01], brightness_range= [0.8, 1.2], data_format= \"channels_last\", fill_mode=\"constant\", horizontal_flip = True)\n",
        "test_datagen = ImageDataGenerator (rescale = 1./255)"
      ]
    },
    {
      "cell_type": "code",
      "execution_count": null,
      "metadata": {
        "id": "-lXihWer3daj",
        "colab": {
          "base_uri": "https://localhost:8080/"
        },
        "outputId": "fbccda4d-07b5-419e-824a-f0ce41c47dd3"
      },
      "outputs": [
        {
          "output_type": "stream",
          "name": "stdout",
          "text": [
            "Found 1200 images belonging to 5 classes.\n",
            "Found 300 images belonging to 5 classes.\n"
          ]
        }
      ],
      "source": [
        "training_set = train_datagen.flow_from_directory('/content/drive/MyDrive/naan mudhalvan/train_data',target_size = (180, 180),batch_size = 64,class_mode = 'categorical')\n",
        "test_set = test_datagen.flow_from_directory('/content/drive/MyDrive/naan mudhalvan/test_data',target_size = (180, 180),batch_size = 64,class_mode = 'categorical')"
      ]
    },
    {
      "cell_type": "code",
      "execution_count": null,
      "metadata": {
        "id": "-MniNegX32bH",
        "colab": {
          "base_uri": "https://localhost:8080/"
        },
        "outputId": "01307a29-8886-4eb0-83c9-fd48704531b2"
      },
      "outputs": [
        {
          "output_type": "stream",
          "name": "stdout",
          "text": [
            "Downloading data from https://storage.googleapis.com/tensorflow/keras-applications/vgg19/vgg19_weights_tf_dim_ordering_tf_kernels_notop.h5\n",
            "80134624/80134624 [==============================] - 0s 0us/step\n"
          ]
        }
      ],
      "source": [
        "VGG19 = VGG19(input_shape=[180,180]+ [3], weights='imagenet',include_top=False)\n",
        "for layer in VGG19.layers: layer.trainable = False\n",
        "x = Flatten() (VGG19.output)"
      ]
    },
    {
      "cell_type": "code",
      "execution_count": null,
      "metadata": {
        "id": "XgRAGcyw4C1H"
      },
      "outputs": [],
      "source": [
        "#Adding Dense Layers\n",
        "prediction = Dense(5, activation = 'softmax')(x)"
      ]
    },
    {
      "cell_type": "code",
      "execution_count": null,
      "metadata": {
        "id": "O75c5YBQ4Hno"
      },
      "outputs": [],
      "source": [
        "model = Model(inputs = VGG19.input, outputs=prediction)\n"
      ]
    },
    {
      "cell_type": "code",
      "source": [
        "model.summary()"
      ],
      "metadata": {
        "colab": {
          "base_uri": "https://localhost:8080/"
        },
        "id": "nLBb063Kt301",
        "outputId": "9fa477f6-28fd-49f9-f3db-fe29a4667003"
      },
      "execution_count": null,
      "outputs": [
        {
          "output_type": "stream",
          "name": "stdout",
          "text": [
            "Model: \"model\"\n",
            "_________________________________________________________________\n",
            " Layer (type)                Output Shape              Param #   \n",
            "=================================================================\n",
            " input_1 (InputLayer)        [(None, 180, 180, 3)]     0         \n",
            "                                                                 \n",
            " block1_conv1 (Conv2D)       (None, 180, 180, 64)      1792      \n",
            "                                                                 \n",
            " block1_conv2 (Conv2D)       (None, 180, 180, 64)      36928     \n",
            "                                                                 \n",
            " block1_pool (MaxPooling2D)  (None, 90, 90, 64)        0         \n",
            "                                                                 \n",
            " block2_conv1 (Conv2D)       (None, 90, 90, 128)       73856     \n",
            "                                                                 \n",
            " block2_conv2 (Conv2D)       (None, 90, 90, 128)       147584    \n",
            "                                                                 \n",
            " block2_pool (MaxPooling2D)  (None, 45, 45, 128)       0         \n",
            "                                                                 \n",
            " block3_conv1 (Conv2D)       (None, 45, 45, 256)       295168    \n",
            "                                                                 \n",
            " block3_conv2 (Conv2D)       (None, 45, 45, 256)       590080    \n",
            "                                                                 \n",
            " block3_conv3 (Conv2D)       (None, 45, 45, 256)       590080    \n",
            "                                                                 \n",
            " block3_conv4 (Conv2D)       (None, 45, 45, 256)       590080    \n",
            "                                                                 \n",
            " block3_pool (MaxPooling2D)  (None, 22, 22, 256)       0         \n",
            "                                                                 \n",
            " block4_conv1 (Conv2D)       (None, 22, 22, 512)       1180160   \n",
            "                                                                 \n",
            " block4_conv2 (Conv2D)       (None, 22, 22, 512)       2359808   \n",
            "                                                                 \n",
            " block4_conv3 (Conv2D)       (None, 22, 22, 512)       2359808   \n",
            "                                                                 \n",
            " block4_conv4 (Conv2D)       (None, 22, 22, 512)       2359808   \n",
            "                                                                 \n",
            " block4_pool (MaxPooling2D)  (None, 11, 11, 512)       0         \n",
            "                                                                 \n",
            " block5_conv1 (Conv2D)       (None, 11, 11, 512)       2359808   \n",
            "                                                                 \n",
            " block5_conv2 (Conv2D)       (None, 11, 11, 512)       2359808   \n",
            "                                                                 \n",
            " block5_conv3 (Conv2D)       (None, 11, 11, 512)       2359808   \n",
            "                                                                 \n",
            " block5_conv4 (Conv2D)       (None, 11, 11, 512)       2359808   \n",
            "                                                                 \n",
            " block5_pool (MaxPooling2D)  (None, 5, 5, 512)         0         \n",
            "                                                                 \n",
            " flatten (Flatten)           (None, 12800)             0         \n",
            "                                                                 \n",
            " dense (Dense)               (None, 5)                 64005     \n",
            "                                                                 \n",
            "=================================================================\n",
            "Total params: 20,088,389\n",
            "Trainable params: 64,005\n",
            "Non-trainable params: 20,024,384\n",
            "_________________________________________________________________\n"
          ]
        }
      ]
    },
    {
      "cell_type": "code",
      "execution_count": null,
      "metadata": {
        "id": "9DgKHCLL4SCd"
      },
      "outputs": [],
      "source": [
        "# tell the model what cost and optimization method to use\n",
        "model.compile(\n",
        "    loss='categorical_crossentropy',\n",
        "    optimizer='adam',\n",
        "    metrics=['accuracy']\n",
        ")"
      ]
    },
    {
      "cell_type": "code",
      "source": [
        "#Train The Model\n",
        "r = model.fit(\n",
        "     training_set,\n",
        "     validation_data=test_set,\n",
        "     epochs=50,\n",
        "     steps_per_epoch=len(training_set),\n",
        "     validation_steps=len(test_set)\n",
        ")"
      ],
      "metadata": {
        "colab": {
          "base_uri": "https://localhost:8080/"
        },
        "id": "m7NuEibZGmr4",
        "outputId": "bdb4eec1-9db8-4c8a-a641-48b4227dd6dd"
      },
      "execution_count": null,
      "outputs": [
        {
          "output_type": "stream",
          "name": "stdout",
          "text": [
            "Epoch 1/50\n",
            "19/19 [==============================] - 120s 7s/step - loss: 0.6860 - accuracy: 0.7658 - val_loss: 0.5960 - val_accuracy: 0.7967\n",
            "Epoch 2/50\n",
            "19/19 [==============================] - 26s 1s/step - loss: 0.4650 - accuracy: 0.8483 - val_loss: 0.5875 - val_accuracy: 0.7967\n",
            "Epoch 3/50\n",
            "19/19 [==============================] - 25s 1s/step - loss: 0.3742 - accuracy: 0.8933 - val_loss: 0.4781 - val_accuracy: 0.8333\n",
            "Epoch 4/50\n",
            "19/19 [==============================] - 26s 1s/step - loss: 0.3236 - accuracy: 0.9117 - val_loss: 0.4254 - val_accuracy: 0.8700\n",
            "Epoch 5/50\n",
            "19/19 [==============================] - 26s 1s/step - loss: 0.2971 - accuracy: 0.9225 - val_loss: 0.4941 - val_accuracy: 0.8367\n",
            "Epoch 6/50\n",
            "19/19 [==============================] - 26s 1s/step - loss: 0.2707 - accuracy: 0.9325 - val_loss: 0.4270 - val_accuracy: 0.8567\n",
            "Epoch 7/50\n",
            "19/19 [==============================] - 25s 1s/step - loss: 0.2337 - accuracy: 0.9350 - val_loss: 0.3874 - val_accuracy: 0.8733\n",
            "Epoch 8/50\n",
            "19/19 [==============================] - 25s 1s/step - loss: 0.2111 - accuracy: 0.9458 - val_loss: 0.3623 - val_accuracy: 0.8800\n",
            "Epoch 9/50\n",
            "19/19 [==============================] - 26s 1s/step - loss: 0.1968 - accuracy: 0.9492 - val_loss: 0.4164 - val_accuracy: 0.8567\n",
            "Epoch 10/50\n",
            "19/19 [==============================] - 26s 1s/step - loss: 0.1840 - accuracy: 0.9550 - val_loss: 0.3977 - val_accuracy: 0.8667\n",
            "Epoch 11/50\n",
            "19/19 [==============================] - 25s 1s/step - loss: 0.1572 - accuracy: 0.9650 - val_loss: 0.3876 - val_accuracy: 0.8767\n",
            "Epoch 12/50\n",
            "19/19 [==============================] - 24s 1s/step - loss: 0.1652 - accuracy: 0.9608 - val_loss: 0.3985 - val_accuracy: 0.8700\n",
            "Epoch 13/50\n",
            "19/19 [==============================] - 25s 1s/step - loss: 0.1464 - accuracy: 0.9617 - val_loss: 0.4073 - val_accuracy: 0.8600\n",
            "Epoch 14/50\n",
            "19/19 [==============================] - 24s 1s/step - loss: 0.1429 - accuracy: 0.9658 - val_loss: 0.3893 - val_accuracy: 0.8867\n",
            "Epoch 15/50\n",
            "19/19 [==============================] - 24s 1s/step - loss: 0.1344 - accuracy: 0.9692 - val_loss: 0.3632 - val_accuracy: 0.8867\n",
            "Epoch 16/50\n",
            "19/19 [==============================] - 24s 1s/step - loss: 0.1331 - accuracy: 0.9642 - val_loss: 0.3772 - val_accuracy: 0.8833\n",
            "Epoch 17/50\n",
            "19/19 [==============================] - 24s 1s/step - loss: 0.1318 - accuracy: 0.9675 - val_loss: 0.3669 - val_accuracy: 0.8867\n",
            "Epoch 18/50\n",
            "19/19 [==============================] - 24s 1s/step - loss: 0.1065 - accuracy: 0.9808 - val_loss: 0.3577 - val_accuracy: 0.8867\n",
            "Epoch 19/50\n",
            "19/19 [==============================] - 25s 1s/step - loss: 0.1047 - accuracy: 0.9775 - val_loss: 0.3282 - val_accuracy: 0.9000\n",
            "Epoch 20/50\n",
            "19/19 [==============================] - 25s 1s/step - loss: 0.1011 - accuracy: 0.9792 - val_loss: 0.3027 - val_accuracy: 0.9033\n",
            "Epoch 21/50\n",
            "19/19 [==============================] - 24s 1s/step - loss: 0.1000 - accuracy: 0.9817 - val_loss: 0.4193 - val_accuracy: 0.8700\n",
            "Epoch 22/50\n",
            "19/19 [==============================] - 25s 1s/step - loss: 0.0910 - accuracy: 0.9875 - val_loss: 0.4115 - val_accuracy: 0.8833\n",
            "Epoch 23/50\n",
            "19/19 [==============================] - 25s 1s/step - loss: 0.0839 - accuracy: 0.9850 - val_loss: 0.3868 - val_accuracy: 0.8867\n",
            "Epoch 24/50\n",
            "19/19 [==============================] - 24s 1s/step - loss: 0.0812 - accuracy: 0.9858 - val_loss: 0.4054 - val_accuracy: 0.8800\n",
            "Epoch 25/50\n",
            "19/19 [==============================] - 25s 1s/step - loss: 0.0821 - accuracy: 0.9833 - val_loss: 0.3378 - val_accuracy: 0.8900\n",
            "Epoch 26/50\n",
            "19/19 [==============================] - 25s 1s/step - loss: 0.0692 - accuracy: 0.9900 - val_loss: 0.4053 - val_accuracy: 0.8800\n",
            "Epoch 27/50\n",
            "19/19 [==============================] - 24s 1s/step - loss: 0.0650 - accuracy: 0.9900 - val_loss: 0.3603 - val_accuracy: 0.8900\n",
            "Epoch 28/50\n",
            "19/19 [==============================] - 25s 1s/step - loss: 0.0727 - accuracy: 0.9817 - val_loss: 0.3313 - val_accuracy: 0.8967\n",
            "Epoch 29/50\n",
            "19/19 [==============================] - 24s 1s/step - loss: 0.0699 - accuracy: 0.9892 - val_loss: 0.3553 - val_accuracy: 0.8900\n",
            "Epoch 30/50\n",
            "19/19 [==============================] - 24s 1s/step - loss: 0.0633 - accuracy: 0.9917 - val_loss: 0.3499 - val_accuracy: 0.8867\n",
            "Epoch 31/50\n",
            "19/19 [==============================] - 24s 1s/step - loss: 0.0634 - accuracy: 0.9917 - val_loss: 0.4323 - val_accuracy: 0.8767\n",
            "Epoch 32/50\n",
            "19/19 [==============================] - 24s 1s/step - loss: 0.0524 - accuracy: 0.9933 - val_loss: 0.3569 - val_accuracy: 0.8933\n",
            "Epoch 33/50\n",
            "19/19 [==============================] - 24s 1s/step - loss: 0.0561 - accuracy: 0.9917 - val_loss: 0.3845 - val_accuracy: 0.8867\n",
            "Epoch 34/50\n",
            "19/19 [==============================] - 24s 1s/step - loss: 0.0552 - accuracy: 0.9892 - val_loss: 0.3932 - val_accuracy: 0.8900\n",
            "Epoch 35/50\n",
            "19/19 [==============================] - 24s 1s/step - loss: 0.0531 - accuracy: 0.9908 - val_loss: 0.4294 - val_accuracy: 0.8733\n",
            "Epoch 36/50\n",
            "19/19 [==============================] - 24s 1s/step - loss: 0.0541 - accuracy: 0.9925 - val_loss: 0.3627 - val_accuracy: 0.8867\n",
            "Epoch 37/50\n",
            "19/19 [==============================] - 24s 1s/step - loss: 0.0531 - accuracy: 0.9908 - val_loss: 0.3630 - val_accuracy: 0.8900\n",
            "Epoch 38/50\n",
            "19/19 [==============================] - 24s 1s/step - loss: 0.0493 - accuracy: 0.9950 - val_loss: 0.3730 - val_accuracy: 0.8900\n",
            "Epoch 39/50\n",
            "19/19 [==============================] - 24s 1s/step - loss: 0.0472 - accuracy: 0.9958 - val_loss: 0.3867 - val_accuracy: 0.8900\n",
            "Epoch 40/50\n",
            "19/19 [==============================] - 24s 1s/step - loss: 0.0448 - accuracy: 0.9958 - val_loss: 0.3389 - val_accuracy: 0.8933\n",
            "Epoch 41/50\n",
            "19/19 [==============================] - 24s 1s/step - loss: 0.0447 - accuracy: 0.9925 - val_loss: 0.3880 - val_accuracy: 0.8800\n",
            "Epoch 42/50\n",
            "19/19 [==============================] - 25s 1s/step - loss: 0.0465 - accuracy: 0.9925 - val_loss: 0.3606 - val_accuracy: 0.8867\n",
            "Epoch 43/50\n",
            "19/19 [==============================] - 24s 1s/step - loss: 0.0407 - accuracy: 0.9967 - val_loss: 0.3614 - val_accuracy: 0.8900\n",
            "Epoch 44/50\n",
            "19/19 [==============================] - 24s 1s/step - loss: 0.0454 - accuracy: 0.9942 - val_loss: 0.3468 - val_accuracy: 0.8900\n",
            "Epoch 45/50\n",
            "19/19 [==============================] - 24s 1s/step - loss: 0.0377 - accuracy: 0.9942 - val_loss: 0.3276 - val_accuracy: 0.9033\n",
            "Epoch 46/50\n",
            "19/19 [==============================] - 24s 1s/step - loss: 0.0394 - accuracy: 0.9967 - val_loss: 0.3718 - val_accuracy: 0.8900\n",
            "Epoch 47/50\n",
            "19/19 [==============================] - 24s 1s/step - loss: 0.0388 - accuracy: 0.9942 - val_loss: 0.4337 - val_accuracy: 0.8800\n",
            "Epoch 48/50\n",
            "19/19 [==============================] - 24s 1s/step - loss: 0.0310 - accuracy: 0.9967 - val_loss: 0.3600 - val_accuracy: 0.8900\n",
            "Epoch 49/50\n",
            "19/19 [==============================] - 24s 1s/step - loss: 0.0362 - accuracy: 0.9950 - val_loss: 0.3999 - val_accuracy: 0.8800\n",
            "Epoch 50/50\n",
            "19/19 [==============================] - 24s 1s/step - loss: 0.0365 - accuracy: 0.9983 - val_loss: 0.3608 - val_accuracy: 0.8933\n"
          ]
        }
      ]
    },
    {
      "cell_type": "code",
      "source": [
        "loss, accuracy = model.evaluate(test_set,\n",
        "                                steps=11,\n",
        "                                verbose=2,\n",
        "                                use_multiprocessing=True,\n",
        "                                workers=2)\n",
        "print(f'Model performance on test images\"\\nAccuracy = {accuracy}\\nloss={loss}')"
      ],
      "metadata": {
        "colab": {
          "base_uri": "https://localhost:8080/"
        },
        "id": "xERZJ-qbfeZ-",
        "outputId": "8f8b46ab-b7e9-449d-e1b5-750b56560494"
      },
      "execution_count": null,
      "outputs": [
        {
          "output_type": "stream",
          "name": "stdout",
          "text": [
            "11/11 - 6s - loss: 0.3503 - accuracy: 0.8946 - 6s/epoch - 537ms/step\n",
            "Model performance on test images\"\n",
            "Accuracy = 0.8945783376693726\n",
            "loss=0.3502841293811798\n"
          ]
        }
      ]
    },
    {
      "cell_type": "code",
      "source": [
        "model.save('model.h5')"
      ],
      "metadata": {
        "id": "N6oMhoozhuHN"
      },
      "execution_count": null,
      "outputs": []
    },
    {
      "cell_type": "code",
      "source": [
        "from tensorflow.keras.models import load_model\n",
        "from tensorflow.keras.preprocessing import image\n",
        "import numpy as np\n",
        "model=load_model(\"/content/model.h5\")"
      ],
      "metadata": {
        "id": "DqfTyyziiSPF"
      },
      "execution_count": null,
      "outputs": []
    },
    {
      "cell_type": "code",
      "source": [
        "img = image.load_img(r\"/content/drive/MyDrive/naan mudhalvan/test_data/shine/shine202.jpg\", target_size=(180, 180)) # loading the image\n",
        "X = image.img_to_array(img) # convert the image to an array\n",
        "X = np.expand_dims(X, axis=0) # expand the dimensions of the array\n",
        "preds = model.predict(X)\n",
        "pred = np.argmax(preds, axis=1)\n",
        "index = ['cloudy', 'foggy', 'rainy', 'shine', 'sunrise']\n",
        "result = str(index[pred[0]])\n",
        "result\n"
      ],
      "metadata": {
        "colab": {
          "base_uri": "https://localhost:8080/",
          "height": 54
        },
        "id": "haJftILFpmrE",
        "outputId": "da031b82-e208-4471-ad30-e0af273a647a"
      },
      "execution_count": null,
      "outputs": [
        {
          "output_type": "stream",
          "name": "stdout",
          "text": [
            "1/1 [==============================] - 1s 832ms/step\n"
          ]
        },
        {
          "output_type": "execute_result",
          "data": {
            "text/plain": [
              "'shine'"
            ],
            "application/vnd.google.colaboratory.intrinsic+json": {
              "type": "string"
            }
          },
          "metadata": {},
          "execution_count": 16
        }
      ]
    },
    {
      "cell_type": "code",
      "source": [
        "!tar -zcvf modelWeights.tgz model.h5"
      ],
      "metadata": {
        "colab": {
          "base_uri": "https://localhost:8080/"
        },
        "id": "bTmSrT0tAN9v",
        "outputId": "81039ed3-3a8d-4c68-8ad4-b8b643017f03"
      },
      "execution_count": null,
      "outputs": [
        {
          "output_type": "stream",
          "name": "stdout",
          "text": [
            "model.h5\n"
          ]
        }
      ]
    }
  ],
  "metadata": {
    "colab": {
      "provenance": [],
      "gpuType": "T4"
    },
    "kernelspec": {
      "display_name": "Python 3",
      "name": "python3"
    },
    "language_info": {
      "name": "python"
    },
    "accelerator": "GPU",
    "gpuClass": "standard"
  },
  "nbformat": 4,
  "nbformat_minor": 0
}